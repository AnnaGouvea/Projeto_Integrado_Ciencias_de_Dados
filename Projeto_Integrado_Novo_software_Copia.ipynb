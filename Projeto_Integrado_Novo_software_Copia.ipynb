{
 "cells": [
  {
   "cell_type": "markdown",
   "metadata": {},
   "source": [
    "# ANÁLISE DE ATIVIDADES DE MANUTENÇÃO E DE CONFIABILIDADE DE ATIVOS DE UMA EMPRESA FABRICANTE DE SINALIZAÇÃO PARA VEÍCULOS PESADOS E COMERCIAIS"
   ]
  },
  {
   "cell_type": "markdown",
   "metadata": {},
   "source": [
    "### Ana Luiza Figueiredo Gouvea"
   ]
  },
  {
   "cell_type": "markdown",
   "metadata": {},
   "source": [
    "## Visão Geral (06-2021 a 12-2021)"
   ]
  },
  {
   "cell_type": "markdown",
   "metadata": {},
   "source": [
    "Para a análise dos dados a partir de junho de 2021, estão sendo usadas planilhas geradas pelo novo software desenvolvido dentro da própria empresa. As planilhas são geradas no formato csv e xlsx e podem ser obtidas acessando o software dentro da rede interna. \n",
    "\n",
    "Diferente do software terceiro, o software interno da empresa gera planilhas separadas para os tipos de atividades classificadas como preventivas. \n",
    "\n",
    "Outro detalhe, é que o novo software trouxe possibilidades de outras classificações para as atividades, como a classificação \"ajuste\" e para atividades descritas como \"corretivas\" (ex: corretiva por erro de operação), permitindo análises mais delimitadas.\n"
   ]
  },
  {
   "cell_type": "markdown",
   "metadata": {},
   "source": [
    "---"
   ]
  },
  {
   "cell_type": "markdown",
   "metadata": {},
   "source": [
    "### Importação das bibliotecas "
   ]
  },
  {
   "cell_type": "code",
   "execution_count": null,
   "metadata": {},
   "outputs": [],
   "source": [
    "# Instalações de pacotes:\n",
    "!pip install pyspark \n",
    "!pip install jupyter \n",
    "!pip install findspark \n",
    "\n",
    "#Serão necessários na parte de analise de analise de palavras -> Utilizado na parte de analise das atividades 'corretivas'."
   ]
  },
  {
   "cell_type": "code",
   "execution_count": null,
   "metadata": {
    "id": "g5hJo73fMUVr"
   },
   "outputs": [],
   "source": [
    "# -*- coding: utf-8 -*-\n",
    "# Bibliotecas para analise dos dados:\n",
    "import os\n",
    "import csv\n",
    "import numpy as np\n",
    "import pandas as pd\n",
    "import seaborn as sns\n",
    "import matplotlib\n",
    "import matplotlib.pyplot as plt\n",
    "from datetime import datetime as dt\n",
    "\n",
    "# -----------------------------------------\n",
    "#Instalação das bibliotecas para analise de palavras -> Utilizado na parte de analise das atividades 'corretivas':\n",
    "\n",
    "import findspark\n",
    "import pyspark\n",
    "import nltk\n",
    "import string\n",
    "import collections\n",
    "from collections import Counter\n",
    "#---------------------------------------------\n",
    "# Impressão das Versões das Bibliotecas utilizadas:\n",
    "print(f'Matplot version: {matplotlib.__version__}')\n",
    "print(f'Numpy version: {np.__version__}')\n",
    "print(f'Pandas version: {pd.__version__}')\n",
    "print(f'Seaborn version: {sns.__version__}')\n",
    "print(f'Findspark version: {findspark.__version__}')\n",
    "print(f'Pyspark version: {pyspark.__version__}')\n",
    "print(f'NLTK version: {nltk.__version__}')\n",
    "\n",
    "#--------------------------------------------\n",
    "\n",
    "print('Download das bibliotecas completo!')"
   ]
  },
  {
   "cell_type": "markdown",
   "metadata": {},
   "source": [
    "### Importação dos arquivos"
   ]
  },
  {
   "cell_type": "code",
   "execution_count": null,
   "metadata": {},
   "outputs": [],
   "source": [
    "# Importação do arquivo:\n",
    "# Esse primeiro arquivo contém as informações de corretivas, ajustes e melhorias.\n",
    "# Ambos os arquviso utilizam codificação UTF-8 e separação das colunas por ponto e virgula.\n",
    "data = pd.read_csv(r\"CAMINHO PARA ARQUIVO CSV\",sep=';',encoding='utf-8')\n",
    "data_prev = pd.read_excel(r\"CAMINHO PARA ARQUIVO XLSX\",sep=';',encoding='utf-8')"
   ]
  },
  {
   "cell_type": "markdown",
   "metadata": {},
   "source": [
    "### Tratamento de Dados"
   ]
  },
  {
   "cell_type": "markdown",
   "metadata": {},
   "source": [
    "#### Ajustes necessáriospara utilização do arquivo csv\n",
    "\n",
    "Este arquivo possui informações de atividades classificadas como 'Corretivas', 'Ajuste' e 'Melhoria'."
   ]
  },
  {
   "cell_type": "code",
   "execution_count": null,
   "metadata": {},
   "outputs": [],
   "source": [
    "print(data)"
   ]
  },
  {
   "cell_type": "code",
   "execution_count": null,
   "metadata": {},
   "outputs": [],
   "source": [
    "# Informações do DataFrame:\n",
    "data.info()"
   ]
  },
  {
   "cell_type": "code",
   "execution_count": null,
   "metadata": {},
   "outputs": [],
   "source": [
    "# Visualização das primeiras linhas do DataFrame:\n",
    "data.head()"
   ]
  },
  {
   "cell_type": "code",
   "execution_count": null,
   "metadata": {},
   "outputs": [],
   "source": [
    "# Não foi possível a utilização dos nomes das colunas por falha no reconhecimento:\n",
    "#arquivo_fianl = data[['  AtivoLocal  ']]"
   ]
  },
  {
   "cell_type": "code",
   "execution_count": null,
   "metadata": {},
   "outputs": [],
   "source": [
    "# Necessário download do arquivo sem o cabeçalho:\n",
    "df = pd.read_csv(r\"CAMINHO PARA ARQUIVO CSV\",sep=';',encoding='utf-8',header=None)"
   ]
  },
  {
   "cell_type": "code",
   "execution_count": null,
   "metadata": {},
   "outputs": [],
   "source": [
    "# Visualização das informações contidas no DataFrame:\n",
    "df.info()"
   ]
  },
  {
   "cell_type": "code",
   "execution_count": null,
   "metadata": {},
   "outputs": [],
   "source": [
    "# Primeiras linhas do DataFrame df:\n",
    "df.head()"
   ]
  },
  {
   "cell_type": "markdown",
   "metadata": {},
   "source": [
    "Vamos filtrar apenas as colunas que iremos utilizar em nossas análise, sendo elas: 'AtivoLocal', 'Criticidade','Tipo de Serviço','Tipo de Os','Descrição Ativo Local','Data/Hora Atividade','Atividade'."
   ]
  },
  {
   "cell_type": "code",
   "execution_count": null,
   "metadata": {
    "id": "qWMZiereVFYI"
   },
   "outputs": [],
   "source": [
    "# Criação do primeiro arquivo com as colunas que iremos utilizar:\n",
    "arquivo_final = df[[1,4,5,10,11,26,27]] # descrição dos numeros da colunas utilizadas\n",
    "arquivo_final.columns = ['Ativo', 'Criticidade','Tipo Servico','Tipo OS','Descricao','Data','Atividade'] # nomeando as colunas\n",
    "arquivo_final = arquivo_final # salvando o arquivo final com o mesmo nome"
   ]
  },
  {
   "cell_type": "code",
   "execution_count": null,
   "metadata": {
    "id": "hX7e5ZbEdBLe"
   },
   "outputs": [],
   "source": [
    "# Mostrar informações do arquivo que será utilizado\n",
    "arquivo_final.info()"
   ]
  },
  {
   "cell_type": "markdown",
   "metadata": {},
   "source": [
    "# ** Análise do Período **"
   ]
  },
  {
   "cell_type": "markdown",
   "metadata": {},
   "source": [
    "### Tipos de tarefas mais executadas"
   ]
  },
  {
   "cell_type": "code",
   "execution_count": null,
   "metadata": {
    "id": "yKip2i_XHOrG"
   },
   "outputs": [],
   "source": [
    "#Foi criado uma coluna com o valor 1 para auxiliar nas contagens:\n",
    "arquivo_final.insert(loc=0,column='contador',value=1)"
   ]
  },
  {
   "cell_type": "code",
   "execution_count": null,
   "metadata": {},
   "outputs": [],
   "source": [
    "#Apagando linha que era cabeçalho anterior\n",
    "arquivo_final.drop(index=0, inplace=True)\n",
    "arquivo_final"
   ]
  },
  {
   "cell_type": "code",
   "execution_count": null,
   "metadata": {
    "id": "TIA4NNVE8viy"
   },
   "outputs": [],
   "source": [
    "# Tipos de Tarefa:\n",
    "tipos_tarefas_mais_realizadas = arquivo_final[['Tipo OS','contador']].groupby('Tipo OS').sum()\n",
    "tipos_tarefas_mais_realizadas = tipos_tarefas_mais_realizadas.sort_values(by=['contador'],ascending=False)\n",
    "tipos_tarefas_mais_realizadas"
   ]
  },
  {
   "cell_type": "code",
   "execution_count": null,
   "metadata": {},
   "outputs": [],
   "source": [
    "#Grafico Tipos de Tarefa:\n",
    "tipos_tarefas_mais_realizadas = tipos_tarefas_mais_realizadas.head(8)\n",
    "indice_x = tipos_tarefas_mais_realizadas['contador']\n",
    "nomes_tarefas = tipos_tarefas_mais_realizadas.index\n",
    "plt.figure(figsize=(15,10))\n",
    "sns.set_style('white')\n",
    "figura_tarefas = sns.barplot(x=indice_x,y=nomes_tarefas,palette = 'inferno')\n",
    "figura_tarefas.set_title('Os 10 tipos de Tarefas mais realizadas no período',fontsize = 20)\n",
    "figura_tarefas.set_xlabel('Numero de atividades',fontsize=15)\n",
    "figura_tarefas.set_ylabel('Tipos de Tarefas',fontsize = 15)\n",
    "figura_tarefas"
   ]
  },
  {
   "cell_type": "markdown",
   "metadata": {},
   "source": [
    "### Instalações com maior numero de atividades realizadas"
   ]
  },
  {
   "cell_type": "markdown",
   "metadata": {},
   "source": [
    "Análise de dados de aividades realizadas em instalações (infraestrutura). A planilha baixada do Novo software não possui um campo para a distinção entre máquinas e infraestrutura, assim foi necessário procurar pelos respectivos nomes dados ás áreas."
   ]
  },
  {
   "cell_type": "code",
   "execution_count": null,
   "metadata": {},
   "outputs": [],
   "source": [
    "# Selecionar 'ativos' classificados como 'Instalações':\n",
    "m2 = arquivo_final.loc[arquivo_final['Ativo'].str.contains(\"Área|Serralheria|Ferramentaria|Planta 1|Planta 2\",na = False)]\n",
    "m2 = m2.loc[~m2['Ativo'].str.contains(\"Talha\")]\n",
    "m2"
   ]
  },
  {
   "cell_type": "code",
   "execution_count": null,
   "metadata": {},
   "outputs": [],
   "source": [
    "# Atividades para 'ativos' classificados como 'instalações':\n",
    "instalações_atividades_mais_realizadas = m2[['Ativo','contador']].groupby('Ativo').sum()\n",
    "instalações_atividades_mais_realizadas = instalações_atividades_mais_realizadas.sort_values(by=['contador'],ascending=False)\n",
    "instalações_mais_realizadas = instalações_atividades_mais_realizadas.head(20)\n",
    "instalações_mais_realizadas.head(10)"
   ]
  },
  {
   "cell_type": "code",
   "execution_count": null,
   "metadata": {},
   "outputs": [],
   "source": [
    "# Grafico instalações:\n",
    "\n",
    "instalações_mais = instalações_mais_realizadas.head(10)\n",
    "indice_x = instalações_mais['contador']\n",
    "nomes_instalações = instalações_mais.index\n",
    "fig = plt.figure(figsize=(15,10))\n",
    "sns.set_style('white')\n",
    "figura_instalações = sns.barplot(x=indice_x,y=nomes_instalações ,palette = 'Purples_r')\n",
    "figura_instalações.set_title('As 10 instalações de infraestrutura com o maior numero de atividades realizadas ',fontsize = 20)\n",
    "figura_instalações.set_xlabel('Numero de atividades',fontsize=15)\n",
    "figura_instalações.set_ylabel('Instalações',fontsize = 15)\n",
    "figura_instalações "
   ]
  },
  {
   "cell_type": "markdown",
   "metadata": {},
   "source": [
    "### Instalações com menor numero de atividades realizadas"
   ]
  },
  {
   "cell_type": "code",
   "execution_count": null,
   "metadata": {},
   "outputs": [],
   "source": [
    "# Atividades para 'ativos' classificados como 'instalações':\n",
    "instalações_menos_realizadas = instalações_atividades_mais_realizadas.tail(10)\n",
    "instalações_menos_realizadas"
   ]
  },
  {
   "cell_type": "markdown",
   "metadata": {},
   "source": [
    "### Equipamentos com maior numero de atividades realizadas"
   ]
  },
  {
   "cell_type": "markdown",
   "metadata": {},
   "source": [
    "Análise de dados de aividades realizadas em equipamentos (máquinas). A planilha baixada do Novo software não possui um campo para a distinção entre máquinas e infraestrutura, assim foi necessário procurar pelos respectivos nomes dados aos equipamentos. A inserção do nome 'Prensa' permite a procura de equipamentos denominados 'Prensa', 'Prensa Terminal' e 'Prensa Terminal automática' que são três tipos distintos de máquinas."
   ]
  },
  {
   "cell_type": "code",
   "execution_count": null,
   "metadata": {},
   "outputs": [],
   "source": [
    "# Selecionar ativos classificados como 'Equipamentos':\n",
    "m1 = arquivo_final.loc[arquivo_final['Ativo'].str.contains(\"Prensa|Injetora|INJETORA|Ultrassom|Termo|Torre|Compressor|Estufa|Printer|Pick|Forno|Talha|Meta|chiller\",na = False)]\n",
    "m1 = m1.loc[~m1['Ativo'].str.contains(\"Área\")]"
   ]
  },
  {
   "cell_type": "code",
   "execution_count": null,
   "metadata": {},
   "outputs": [],
   "source": [
    "# Selecionar ativos classificados como equipamentos que possuem o maior numero de atividades realizadas cadastradas:\n",
    "equipamentos_atividades_mais_realizadas = m1[['Ativo','Descricao','contador']].groupby(['Ativo','Descricao']).sum()\n",
    "equipamentos_atividades_mais_realizadas = equipamentos_atividades_mais_realizadas.sort_values(by=['contador'],ascending=False)\n",
    "equipamentos_mais_realizados = equipamentos_atividades_mais_realizadas.head(20)\n",
    "equipamentos_mais_realizados.head(10)"
   ]
  },
  {
   "cell_type": "code",
   "execution_count": null,
   "metadata": {},
   "outputs": [],
   "source": [
    "# Grafico Equipamentos:\n",
    "\n",
    "equipamentos_mais = equipamentos_mais_realizados.head(10)\n",
    "indice_x = equipamentos_mais ['contador']\n",
    "nomes_equipamentos = equipamentos_mais.index\n",
    "fig = plt.figure(figsize=(15,10))\n",
    "sns.set_style('white')\n",
    "figura_equipamentos = sns.barplot(x=indice_x,y=nomes_equipamentos ,palette = 'bone')\n",
    "figura_equipamentos.set_title('Os 10 Equipamentos com maior numero de atividades realizadas',fontsize = 20)\n",
    "figura_equipamentos.set_xlabel('Numero de atividades',fontsize=15)\n",
    "figura_equipamentos.set_ylabel('Equipamentos',fontsize = 15)\n",
    "figura_equipamentos "
   ]
  },
  {
   "cell_type": "markdown",
   "metadata": {},
   "source": [
    "### Equipamentos com menor numero de atividades realizadas"
   ]
  },
  {
   "cell_type": "code",
   "execution_count": null,
   "metadata": {},
   "outputs": [],
   "source": [
    "# Selecionar ativos classificados como equipamentos que possuem o menor numero de atividades realizadas cadastradas:\n",
    "equipamentos_menos_realizados = equipamentos_atividades_mais_realizadas.tail(30)\n",
    "equipamentos_menos_realizados"
   ]
  },
  {
   "cell_type": "markdown",
   "metadata": {},
   "source": [
    "---"
   ]
  },
  {
   "cell_type": "markdown",
   "metadata": {},
   "source": [
    "## -----------  Preventivas (05-2021 a 12-2021) ----------- "
   ]
  },
  {
   "cell_type": "markdown",
   "metadata": {},
   "source": [
    "### Tratamento de Dados"
   ]
  },
  {
   "cell_type": "code",
   "execution_count": null,
   "metadata": {},
   "outputs": [],
   "source": [
    "# Criação do arquivo apenas com as colunas que serão utilizadas:\n",
    "arquivo_final_prev = data_prev[['DataHora','NomeEquipamento','SetorEquip','Filial','TipoAtiv']]\n",
    "arquivo_final_prev = arquivo_final_prev\n",
    "arquivo_final_prev"
   ]
  },
  {
   "cell_type": "code",
   "execution_count": null,
   "metadata": {},
   "outputs": [],
   "source": [
    "#Foi criado uma coluna numerada para auxiliar nas contagens:\n",
    "arquivo_final_prev.insert(loc=0,column='contador',value=1)\n",
    "arquivo_final_prev"
   ]
  },
  {
   "cell_type": "markdown",
   "metadata": {},
   "source": [
    "### Instalações com maior numero de atividades preventivas realizadas"
   ]
  },
  {
   "cell_type": "code",
   "execution_count": null,
   "metadata": {
    "scrolled": true
   },
   "outputs": [],
   "source": [
    "# Selecionar os ativos classificados como infraestrutura com maior numero de atividades preventivas realizadas:\n",
    "ativos_preventivas_mais_realizadas = arquivo_final_prev.loc[~arquivo_final_prev['NomeEquipamento'].str.contains(\"Prensa|INJETORA|Injetora|Ultrassom|Termo|Torre|Compressor|Estufa|Printer|Pick|Forno|Talha|Meta|chiller|Vaso\",na = False)]\n",
    "ativos_preventivas_mais_realizadas = ativos_preventivas_mais_realizadas[['NomeEquipamento','Filial','contador']].groupby(['NomeEquipamento','Filial']).sum()\n",
    "ativos_preventivas_mais_realizadas  = ativos_preventivas_mais_realizadas .sort_values(by=['contador'],ascending=False)\n",
    "preventivas_mais_realizadas = ativos_preventivas_mais_realizadas.head(10)\n",
    "preventivas_mais_realizadas"
   ]
  },
  {
   "cell_type": "markdown",
   "metadata": {},
   "source": [
    "### Instalações com menor numero de atividades preventivas realizadas"
   ]
  },
  {
   "cell_type": "code",
   "execution_count": null,
   "metadata": {},
   "outputs": [],
   "source": [
    "# Selecionar os 10 ativos com menor numero de atividades preventivas realizadas:\n",
    "preventivas_menos_realizadas = ativos_preventivas_mais_realizadas.tail(10)\n",
    "preventivas_menos_realizadas"
   ]
  },
  {
   "cell_type": "code",
   "execution_count": null,
   "metadata": {},
   "outputs": [],
   "source": [
    "# Mostrar informações das linhas para o ativo com a string 'Planta 1':\n",
    "arquivo_final_prev.loc[arquivo_final_prev['NomeEquipamento'].str.contains(\"Planta 1\",na = False)]"
   ]
  },
  {
   "cell_type": "markdown",
   "metadata": {},
   "source": [
    "### Equipamentos com maior numero de atividades Preventivas cadastradas:"
   ]
  },
  {
   "cell_type": "code",
   "execution_count": null,
   "metadata": {},
   "outputs": [],
   "source": [
    "# Selecionar ativos classificados como 'Equipamentos':\n",
    "mp = arquivo_final_prev.loc[arquivo_final_prev['NomeEquipamento'].str.contains(\"Prensa|INJETORA|Injetora|Ultrassom|Termo|Torre|Compressor|Estufa|Printer|Pick|Forno|Talha|Meta|chiller\",na = False)]\n",
    "mp = mp.loc[~mp['NomeEquipamento'].str.contains(\"Área\")]\n",
    "mp = mp.loc[~mp['NomeEquipamento'].str.contains(\"Vaso\")]\n",
    "\n",
    "# 'Equipamentos' com maior numero de atividades preventivas :\n",
    "equipamentos_prev_mais_realizadas = mp[['NomeEquipamento','Filial','contador']].groupby(['NomeEquipamento','Filial']).sum()\n",
    "equipamentos_prev_mais_realizadas = equipamentos_prev_mais_realizadas.sort_values(by=['contador'],ascending=False)\n",
    "equipamentos_prev_mais_realizadas.head(10)\n"
   ]
  },
  {
   "cell_type": "markdown",
   "metadata": {},
   "source": [
    "### Equipamentos com menor numero de atividades Preventivas cadastradas:"
   ]
  },
  {
   "cell_type": "code",
   "execution_count": null,
   "metadata": {},
   "outputs": [],
   "source": [
    "# 'Equipamentos' com menor numero de atividades preventivas :\n",
    "equipamentos_prev_menos_realizadas = equipamentos_prev_mais_realizadas.tail(10)\n",
    "equipamentos_prev_menos_realizadas"
   ]
  },
  {
   "cell_type": "markdown",
   "metadata": {},
   "source": [
    "### Atividades Preventivas X Mês X Ano"
   ]
  },
  {
   "cell_type": "code",
   "execution_count": null,
   "metadata": {
    "scrolled": true
   },
   "outputs": [],
   "source": [
    "# Visualização das datas com maior numero de atividades preventivas no período:\n",
    "equip_preventivas = arquivo_final_prev\n",
    "equip_preventivas['DataHora'] = pd.to_datetime(equip_preventivas['DataHora'], format= '%Y%m%d %H:%M:%S') \n",
    "                      \n",
    "# Selecionar apenas coluna 'DataHora':\n",
    "equip_preventivas_m = equip_preventivas[['DataHora']]\n",
    "\n",
    "# DataFrame com o numero de preventivas por mês\n",
    "equip_preventivas_m = equip_preventivas_m.groupby([equip_preventivas_m['DataHora'].dt.year.rename('year'), equip_preventivas_m['DataHora'].dt.month.rename('month')]).agg({'count'})\n",
    "print(equip_preventivas_m)\n",
    "print(\"O numero de atividades preventivas totais foi de: \",equip_preventivas_m['DataHora'].sum())\n"
   ]
  },
  {
   "cell_type": "markdown",
   "metadata": {},
   "source": [
    "---"
   ]
  },
  {
   "cell_type": "markdown",
   "metadata": {},
   "source": [
    "## -----------  Corretivas ----------- "
   ]
  },
  {
   "cell_type": "markdown",
   "metadata": {},
   "source": [
    "### Instalações com maior numero de atividades corretivas realizadas"
   ]
  },
  {
   "cell_type": "code",
   "execution_count": null,
   "metadata": {},
   "outputs": [],
   "source": [
    "# Distinção das classificações de 'Corretivas' encontradas no arquivo para ativos descritos como 'infraestrutura':\n",
    "ic = m2.loc[m2['Tipo OS'].str.contains(\"Corretiva\",na = False)]\n",
    "ic = ic.loc[~ic['Ativo'].str.contains(\"Prensa|INJETORA|Injetora|Ultrassom|Termo|Torre|Compressor|Estufa|Printer|Pick|Forno|Talha|Meta|chiller\",na = False)]\n",
    "infra_corretivas_mais_realizadas = ic[['Ativo','Descricao','Tipo OS','contador']].groupby(['Ativo','Descricao','Tipo OS']).sum()\n",
    "infra_corretivas_mais_realizadas  = infra_corretivas_mais_realizadas.sort_values(by=['contador'],ascending=False)\n",
    "infra_corretivas_mais_realizadas.head(10)"
   ]
  },
  {
   "cell_type": "markdown",
   "metadata": {},
   "source": [
    "### Equipamentos com maior numero de atividades corretivas realizadas"
   ]
  },
  {
   "cell_type": "code",
   "execution_count": null,
   "metadata": {},
   "outputs": [],
   "source": [
    "# Distinção das classificações de 'Corretivas' encontradas no arquivo para ativos descritos como 'equipamento':\n",
    "ec = arquivo_final.loc[arquivo_final['Tipo OS'].str.contains(\"Corretiva\",na = False)]\n",
    "ec = ec.loc[ec['Ativo'].str.contains(\"Prensa|INJETORA|Injetora|Ultrassom|Termo|Torre|Compressor|Estufa|Printer|Pick|Forno|Talha|Meta|chiller\",na = False)]\n",
    "ec = ec.loc[~ec['Ativo'].str.contains(\"Área\")]\n",
    "# Visualização dos ativos classificados como 'equipamento 'com maior numero preventivas devido a falhas de funcionamento:\n",
    "equi_corretivas_mais_realizadas = ec[['Ativo','Descricao','Tipo OS','contador']].groupby(['Ativo','Descricao','Tipo OS']).sum()\n",
    "equi_corretivas_mais_realizadas  = equi_corretivas_mais_realizadas .sort_values(by=['contador'],ascending=False)\n",
    "equi_corretivas_mais_realizadas.head(10)"
   ]
  },
  {
   "cell_type": "code",
   "execution_count": null,
   "metadata": {},
   "outputs": [],
   "source": [
    "# Visualização dos equipamentos com maior numero de atividades corretivas devido a erros operacionais:\n",
    "ece = arquivo_final.loc[arquivo_final['Tipo OS'].str.contains(\"Erro\",na = False)]\n",
    "ece = ece.loc[ece['Ativo'].str.contains(\"Prensa|INJETORA|Injetora|Ultrassom|Termo|Torre|Compressor|Estufa|Printer|Pick|Forno|Talha|Meta|chiller\",na = False)]\n",
    "ece = ece.loc[~ece['Ativo'].str.contains(\"Área\")]\n",
    "equi_corretivas_mais_realizadas = ece[['Ativo','Descricao','Tipo OS','contador']].groupby(['Ativo','Descricao','Tipo OS']).sum()\n",
    "equi_corretivas_mais_realizadas  = equi_corretivas_mais_realizadas .sort_values(by=['contador'],ascending=False)\n",
    "equi_corretivas_mais_realizadas.head(10)"
   ]
  },
  {
   "cell_type": "code",
   "execution_count": null,
   "metadata": {},
   "outputs": [],
   "source": [
    "#visualização das informaçoes do DataFrame:\n",
    "ece.info()"
   ]
  },
  {
   "cell_type": "code",
   "execution_count": null,
   "metadata": {},
   "outputs": [],
   "source": [
    "#Criando um arquivo com o Tipo de Tarefa 'corretiva' para analise de palavras mais comuns, usada na parte de análise de falhas:\n",
    "# Selecionando apenas 'Terefa'\n",
    "corretiva_analise_tarefa = ece[['Atividade']]\n",
    "corretiva_analise_tarefa.to_csv('NOME DO ARQUIVO CSV.csv',index=False)\n",
    "corretiva_analise_tarefa.head()"
   ]
  },
  {
   "cell_type": "markdown",
   "metadata": {},
   "source": [
    "### Atividades Corretivas X Mês X Ano"
   ]
  },
  {
   "cell_type": "code",
   "execution_count": null,
   "metadata": {},
   "outputs": [],
   "source": [
    "# Visualização das datas com maior numero de atividades corretivas no período:\n",
    "equip_corretivas = arquivo_final.loc[arquivo_final['Tipo OS'].str.contains(\"Corretiva\",na = False)]\n",
    "equip_corretivas['Data'] = pd.to_datetime(equip_corretivas['Data'],infer_datetime_format=True) \n",
    "                    \n",
    "equip_corretivas_m = equip_corretivas[['Data']]\n",
    "\n",
    "# DataFrame com o numero de corretivas por mês no período:\n",
    "equip_corretivas_m = equip_corretivas_m .groupby([equip_corretivas_m ['Data'].dt.year.rename('year'), equip_corretivas_m ['Data'].dt.month.rename('month')]).agg({'count'})\n",
    "print(equip_corretivas_m)\n",
    "print(\"O numero de atividades corretivas totais foi de: \",equip_corretivas_m['Data'].sum())"
   ]
  },
  {
   "cell_type": "markdown",
   "metadata": {},
   "source": [
    "### Análise dos termos mais comuns para descrição das atividades realizadas"
   ]
  },
  {
   "cell_type": "code",
   "execution_count": null,
   "metadata": {},
   "outputs": [],
   "source": [
    "# Habilitar findspark para uso do Spark\n",
    "# Caminho para pacote instalado\n",
    "findspark.init('CAMINHO EM QUE O PACOTE PYSPARK FOI SALVO')\n",
    "# foi utilizado o' findspark.init' pois a função 'findspark.find()' não foi reconhecida."
   ]
  },
  {
   "cell_type": "code",
   "execution_count": null,
   "metadata": {},
   "outputs": [],
   "source": [
    "#Contagem de palavras com NLTK\n",
    "nltk.download('stopwords')\n",
    "nltk.download('punkt')\n",
    "\n",
    "# Download do arquivo que será utilizado.\n",
    "# O arquivo foi criado durante as análises de dados do período:\n",
    "arquivo_analise_falha = 'file:CAMINHO EM QUE O ARQUIVO CSV COM AS TAREFAS FOI SALVO'\n",
    "stopwords = nltk.corpus.stopwords.words('portuguese') # Uso do idioma portugues\n",
    "punctuation = string.punctuation"
   ]
  },
  {
   "cell_type": "code",
   "execution_count": null,
   "metadata": {},
   "outputs": [],
   "source": [
    "# Abrindo arquivo csv baixado:\n",
    "with open(\"NOME DO ARQUIVO CSV COM AS TAREFAS\", encoding=\"utf8\") as text_file:\n",
    "    contents = text_file.read()"
   ]
  },
  {
   "cell_type": "code",
   "execution_count": null,
   "metadata": {},
   "outputs": [],
   "source": [
    "from collections import Counter\n",
    "\n",
    "palavras = contents.lower()\n",
    "palavras = palavras.replace('\\n',' ').replace('\\t','').split(' ')\n",
    "\n",
    "contador = Counter(palavras)\n",
    "    \n",
    "for i in contador.items():\n",
    "    print (i)"
   ]
  },
  {
   "cell_type": "code",
   "execution_count": null,
   "metadata": {},
   "outputs": [],
   "source": [
    "import collections\n",
    "\n",
    "# Lista de palavras\n",
    "palavras = contents.lower()\n",
    "palavras = palavras.replace('\\n',' ').replace('\\t','').split(' ')\n",
    "\n",
    "# Contador para as ocorrencias de cada palavra\n",
    "contador = Counter(palavras)\n",
    "\n",
    "# As 100 palavras mais frequentes\n",
    "contador = contador.most_common(100)\n",
    "\n",
    "print (f'{contador}')"
   ]
  },
  {
   "cell_type": "markdown",
   "metadata": {},
   "source": [
    "### Média de Falhas Atendidas Por Dia Durante o Período Por Equipamento"
   ]
  },
  {
   "cell_type": "markdown",
   "metadata": {},
   "source": [
    "Como não possuímos os tempos corretos de operação de cada equipamento, aqui foi analisado o intervalo de dias entre falhas."
   ]
  },
  {
   "cell_type": "code",
   "execution_count": null,
   "metadata": {},
   "outputs": [],
   "source": [
    "#Listas\n",
    "lista_maquina = []\n",
    "\n",
    "# Codigo da função que permitirá digitar os equipamentos que se deseja analisar\n",
    "def menu():\n",
    "    #Variável:\n",
    "    continuar = 1\n",
    "    #Código condicional para permitir adicionar os nomes das máquinas que se deseja analisar:\n",
    "    while(continuar):\n",
    "        continuar = int(input(\"0. Sair\\n\"+ \"1. Para inserir maquinas\\n\"))            \n",
    "        if(continuar == 1):  # se o nuero digitado for 1, a condição é atendida.\n",
    "            maquina = input(\"Digite as maquinas para calculo da média: \")\n",
    "            lista_maquina.append(maquina)\n",
    "    print(lista_maquina)\n",
    "\n",
    "# Para ativar o codigo da função\n",
    "menu() "
   ]
  },
  {
   "cell_type": "code",
   "execution_count": null,
   "metadata": {},
   "outputs": [],
   "source": [
    "# Listas\n",
    "dias =[]\n",
    "dias_maquina = []\n",
    "media_t = []\n",
    "lista_m = []\n",
    "\n",
    "#Variáveis\n",
    "m = 0\n",
    "x = 0\n",
    "i = 0\n",
    "\n",
    "# Código condicional\n",
    "\n",
    "for maq in lista_maquina:\n",
    "    equip_corretiva_mtbf = arquivo_final.loc[arquivo_final['Tipo OS'].str.contains(\"Corretiva\",na = False)]\n",
    "    equip_corretiva_mtbf = equip_corretiva_mtbf.loc[~equip_corretiva_mtbf['Tipo Servico'].str.contains(\"FERRAMENTARIA\",na =False)]\n",
    "    equip_corretiva_mtbf = equip_corretiva_mtbf.loc[~equip_corretiva_mtbf['Criticidade'].str.contains(\"Molde\",na = False)]\n",
    "    equip_corretiva_mtbf = equip_corretiva_mtbf.loc[~equip_corretiva_mtbf['Tipo OS'].str.contains(\"Erro\",na = False)]\n",
    "    equip_corretiva_mtbf = equip_corretiva_mtbf.loc[equip_corretiva_mtbf['Ativo'].str.contains(maq,na = False)]\n",
    "    equip_corretiva_mtbf['Data'] = pd.to_datetime(equip_corretiva_mtbf['Data'],infer_datetime_format=True) \n",
    "\n",
    "    equip_corretiva_mtbf_tempo = equip_corretiva_mtbf[['Ativo','Descricao','Data']].groupby(['Ativo','Descricao'])\n",
    "    equip_corretiva_mtbf_tempo = equip_corretiva_mtbf.sort_values(by=['Data'],ascending=False)\n",
    "\n",
    "\n",
    "    m = equip_corretiva_mtbf_tempo['Data'].count()\n",
    "    lista_m.append(m)\n",
    "    x = m-1\n",
    "        \n",
    "    for i in range(x):\n",
    "        # Data final\n",
    "        d2 = equip_corretiva_mtbf_tempo['Data'].iloc[i]\n",
    "\n",
    "        # Data inicial\n",
    "        d1 = equip_corretiva_mtbf_tempo['Data'].iloc[i+1]\n",
    "\n",
    "        # Calculo da quantidade de dias\n",
    "        quantidade_dias = abs((d2 - d1).days)\n",
    "        dias.append(quantidade_dias)\n",
    "        i = i+1\n",
    "        \n",
    "           \n",
    "    dias_maquina.append(dias)\n",
    "    soma_dias = sum(dias)\n",
    "    media_dias = soma_dias/x\n",
    "    media_t.append(media_dias)    \n",
    "    dias =[] # lista dias é novamente zerada para guardar apenas as informações da próxima maquina analisada\n",
    "    \n",
    "# DataFrame com os dados resultante\n",
    "df_sr=pd.DataFrame({\"Maquina\":lista_maquina,\"Ocorrências\":lista_m,\"Média\":media_t})\n",
    "\n",
    "\n",
    "#Utilizamos a função abs para garantir que a quantidade de dias de diferença seja sempre positiva, \n",
    "#independente da ordem em que as datas foram subtraídas"
   ]
  },
  {
   "cell_type": "code",
   "execution_count": null,
   "metadata": {},
   "outputs": [],
   "source": [
    "df_sr.sort_values(by=['Ocorrências'],ascending=False)"
   ]
  },
  {
   "cell_type": "code",
   "execution_count": null,
   "metadata": {},
   "outputs": [],
   "source": [
    "# Visualização das atividades corretivas realizadas nas injetoras da 'Planta 1':\n",
    "# As Injetoras foram os equipamentos com **maior** numero de ocorrências no período.\n",
    "\n",
    "# !Obs : Foram escolhidas injetoras que permaneceram na planta durante os períodos estudados.\n",
    "\n",
    "# Listas\n",
    "lista_injetoras = ['INJETORA 01','INJETORA 10','INJETORA 11','INJETORA 12','INJETORA 13','INJETORA 18','INJETORA 24','INJETORA 30']\n",
    "dias =[]\n",
    "dias_maquina = []\n",
    "media_t = []\n",
    "lista_m = []\n",
    "\n",
    "#Variáveis\n",
    "m = 0\n",
    "x = 0\n",
    "i = 0\n",
    "\n",
    "# Código condicional\n",
    "\n",
    "for inj in lista_injetoras:\n",
    "    equip_corretiva_mtbf = arquivo_final.loc[arquivo_final['Tipo OS'].str.contains(\"Corretiva\",na = False)]\n",
    "    equip_corretiva_mtbf = equip_corretiva_mtbf.loc[~equip_corretiva_mtbf['Tipo Servico'].str.contains(\"FERRAMENTARIA\",na =False)]\n",
    "    equip_corretiva_mtbf = equip_corretiva_mtbf.loc[~equip_corretiva_mtbf['Criticidade'].str.contains(\"Molde\",na = False)]\n",
    "    equip_corretiva_mtbf = equip_corretiva_mtbf.loc[~equip_corretiva_mtbf['Tipo OS'].str.contains(\"Erro\",na = False)]\n",
    "    equip_corretiva_mtbf = equip_corretiva_mtbf.loc[equip_corretiva_mtbf['Ativo'].str.contains(inj,na = False)]\n",
    "    equip_corretiva_mtbf['Data'] = pd.to_datetime(equip_corretiva_mtbf['Data'],infer_datetime_format=True) \n",
    "\n",
    "    equip_corretiva_mtbf_tempo = equip_corretiva_mtbf[['Ativo','Descricao','Data']].groupby(['Ativo','Descricao'])\n",
    "    equip_corretiva_mtbf_tempo = equip_corretiva_mtbf.sort_values(by=['Data'],ascending=False)\n",
    "\n",
    "\n",
    "    m = equip_corretiva_mtbf_tempo['Data'].count()\n",
    "    lista_m.append(m)\n",
    "    x = m-1\n",
    "        \n",
    "    for i in range(x):\n",
    "        # Data final\n",
    "        d2 = equip_corretiva_mtbf_tempo['Data'].iloc[i]\n",
    "\n",
    "        # Data inicial\n",
    "        d1 = equip_corretiva_mtbf_tempo['Data'].iloc[i+1]\n",
    "\n",
    "        # Calculo da quantidade de dias\n",
    "        quantidade_dias = abs((d2 - d1).days)\n",
    "        dias.append(quantidade_dias)\n",
    "        i = i+1\n",
    "        \n",
    "    dias_maquina.append(dias)\n",
    "    soma_dias = sum(dias)\n",
    "    media_dias = soma_dias/x\n",
    "    media_t.append(media_dias)    \n",
    "    dias =[] # lista dias é novamente zerada para guardar apenas as informações da próxima maquina analisada\n",
    "    \n",
    "# DataFrame com os dados resultante\n",
    "df_inj=pd.DataFrame({\"Maquina\":lista_injetoras,\"Ocorrências\":lista_m,\"Média\":media_t})\n",
    "\n",
    "# Vizualização do DataFrame:\n",
    "df_inj = df_inj.sort_values(by=['Ocorrências'],ascending=False)\n",
    "df_inj"
   ]
  },
  {
   "cell_type": "code",
   "execution_count": null,
   "metadata": {},
   "outputs": [],
   "source": [
    "# Visualização das atividades corretivas realizadas nas injetora 18 da 'Planta 1':\n",
    "# A Injetora 18 foi o equipamento com **maior** numero de ocorrências no período.\n",
    "equip_corretiva_mtbf = arquivo_final.loc[arquivo_final['Tipo OS'].str.contains(\"Corretiva\",na = False)]\n",
    "equip_corretiva_mtbf = equip_corretiva_mtbf.loc[~equip_corretiva_mtbf['Criticidade'].str.contains(\"Molde\",na = False)]\n",
    "equip_corretiva_mtbf = equip_corretiva_mtbf.loc[~equip_corretiva_mtbf['Tipo OS'].str.contains(\"Erro\",na = False)]\n",
    "equip_corretiva_mtbf = equip_corretiva_mtbf.loc[~equip_corretiva_mtbf['Tipo Servico'].str.contains(\"FERRAMENTARIA\",na =False)]\n",
    "equip_corretiva_mtbf = equip_corretiva_mtbf.loc[equip_corretiva_mtbf['Ativo'].str.contains(\"INJETORA 18\",na = False)]\n",
    "equip_corretiva_mtbf['Data'] = pd.to_datetime(equip_corretiva_mtbf['Data'],infer_datetime_format=True) \n",
    "                    \n",
    "equip_corretiva_mtbf_tempo = equip_corretiva_mtbf[['Ativo','Data']].groupby('Ativo')\n",
    "equip_corretiva_mtbf_tempo = equip_corretiva_mtbf.sort_values(by=['Data'],ascending=False)\n",
    "equip_corretiva_mtbf_tempo.head(10)"
   ]
  },
  {
   "cell_type": "markdown",
   "metadata": {},
   "source": [
    "---"
   ]
  },
  {
   "cell_type": "markdown",
   "metadata": {},
   "source": [
    "##  ----------- Preventivas x Corretivas  -----------"
   ]
  },
  {
   "cell_type": "code",
   "execution_count": null,
   "metadata": {},
   "outputs": [],
   "source": [
    "#Criação de tabela com os dados dados anteriores de preventiva e corretiva\n",
    "m = pd.merge(equip_preventivas_m, equip_corretivas_m , how = 'inner', on = 'month')\n",
    "m.columns = ['Preventivas','Corretivas']\n",
    "m"
   ]
  },
  {
   "cell_type": "code",
   "execution_count": null,
   "metadata": {},
   "outputs": [],
   "source": [
    "# Grafico com o numero de atividades preventivas e corretivas\n",
    "prev_b = m['Preventivas']\n",
    "corret_b = m['Corretivas']\n",
    "resultado = pd.crosstab(prev_b,corret_b)\n",
    "indice = m.index\n",
    "fig, ax = plt.subplots(figsize = [15,10])\n",
    "x = np.arange(len(indice))\n",
    "ax.set_xticks(x)\n",
    "ax.set_xticklabels(indice)\n",
    "ax.bar(x-0.2,prev_b,width = 0.4)\n",
    "ax.bar(x+0.2,corret_b,width = 0.4)\n",
    "# width é para alterar a largura da minha barra\n",
    "# deslocando o x nós conseguimos colocar uma barra do lado da outra\n",
    "plt.legend(['Preventivas','Corretivas'])"
   ]
  },
  {
   "cell_type": "code",
   "execution_count": null,
   "metadata": {},
   "outputs": [],
   "source": [
    "# Craição de coluna com a soma total das atividades por mÊs e a porcentagem de cada atividade \n",
    "m.insert(loc=2,column='soma',value= m.sum(axis=1))\n",
    "por_prev = m['Preventivas']/m['soma'] * 100\n",
    "por_corret = m['Corretivas']/m['soma'] *100\n",
    "m.insert(loc=3,column='% Prev',value= por_prev)\n",
    "m.insert(loc=4,column='% Corret',value= por_corret)\n",
    "m"
   ]
  },
  {
   "cell_type": "code",
   "execution_count": null,
   "metadata": {},
   "outputs": [],
   "source": [
    "# Garfico comparativo %Preventivas x %Corretivas\n",
    "y = m.index\n",
    "prev = m['% Prev']\n",
    "corret= m['% Corret']\n",
    "plt.figure(figsize=(15, 10))\n",
    "plt.plot(y,prev,label = '% Preventiva',linewidth=2)\n",
    "plt.plot(y,corret,label = '% Corretiva',linewidth=2)\n",
    "plt.legend(fontsize=10)\n",
    "\n",
    "plt.title('Preventiva x Corretiva',fontsize=20)\n",
    "plt.xlabel('Mês',fontsize=15)\n",
    "plt.ylabel('Porcentagem',fontsize=15)\n"
   ]
  },
  {
   "cell_type": "markdown",
   "metadata": {},
   "source": [
    "---"
   ]
  },
  {
   "cell_type": "markdown",
   "metadata": {},
   "source": [
    "##  -----------  Melhorias  ----------- "
   ]
  },
  {
   "cell_type": "markdown",
   "metadata": {},
   "source": [
    "### Instalações com o maior numero de melhorias realizadas"
   ]
  },
  {
   "cell_type": "code",
   "execution_count": null,
   "metadata": {},
   "outputs": [],
   "source": [
    "# Distinção das classificações de 'Melhoria' encontradas no arquivo para ativos descritos como 'instalação':\n",
    "am = arquivo_final.loc[arquivo_final['Tipo OS'].str.contains(\"Melhoria\",na = False)]\n",
    "am = am.loc[~am['Ativo'].str.contains(\"Prensa|INJETORA|Injetora|Ultrassom|Termo|Torre|Compressor|Estufa|Printer|Pick|Forno|Talha|Meta|chiller|Vaso\",na = False)]\n",
    "ativos_melhorias_mais_realizadas = am[['Ativo','Descricao','Tipo OS','contador']].groupby(['Ativo','Descricao','Tipo OS']).sum()\n",
    "ativos_melhorias_mais_realizadas  = ativos_melhorias_mais_realizadas .sort_values(by=['contador'],ascending=False)\n",
    "ativos_melhorias_mais_realizadas.head(10)"
   ]
  },
  {
   "cell_type": "markdown",
   "metadata": {},
   "source": [
    "### Equipamentos com o maior numero de melhorias realizadas"
   ]
  },
  {
   "cell_type": "code",
   "execution_count": null,
   "metadata": {},
   "outputs": [],
   "source": [
    "# Equipamentos com maior numero de atividades de melhoria realizadas\n",
    "em = arquivo_final.loc[arquivo_final['Tipo OS'].str.contains(\"Melhoria\",na = False)]\n",
    "em = em.loc[em['Ativo'].str.contains(\"Prensa|INJETORA|Injetora|Ultrassom|Termo|Torre|Compressor|Estufa|Printer|Pick|Forno|Talha|Meta|chiller\",na = False)]\n",
    "em = em.loc[~em['Ativo'].str.contains(\"Área\")]\n",
    "\n",
    "equi_melhorias_mais_realizadas = em[['Ativo','Descricao','Tipo OS','contador']].groupby(['Ativo','Descricao','Tipo OS']).sum()\n",
    "equi_melhorias_mais_realizadas  = equi_melhorias_mais_realizadas .sort_values(by=['contador'],ascending=False)\n",
    "equi_melhorias_mais_realizadas.head(10)"
   ]
  },
  {
   "cell_type": "markdown",
   "metadata": {},
   "source": [
    "---"
   ]
  },
  {
   "cell_type": "markdown",
   "metadata": {},
   "source": [
    "##  -----------  Ajustes  ----------- "
   ]
  },
  {
   "cell_type": "markdown",
   "metadata": {},
   "source": [
    "### Instalações com maior numero de atividades classificadas como ajuste "
   ]
  },
  {
   "cell_type": "code",
   "execution_count": null,
   "metadata": {},
   "outputs": [],
   "source": [
    "# Infraestruturas com maior numero de atividades de ajuste realizadas\n",
    "aca = arquivo_final.loc[arquivo_final['Tipo OS'].str.contains(\"Ajuste\",na = False)]\n",
    "aca = aca.loc[~aca['Ativo'].str.contains(\"Prensa|INJETORA|Injetora|Ultrassom|Termo|Torre|Compressor|Estufa|Printer|Pick|Forno|Talha|Meta|chiller|Vaso\",na = False)]\n",
    "ativos_ajustes_mais_realizadas = aca[['Ativo','Descricao','Tipo OS','contador']].groupby(['Ativo','Descricao','Tipo OS']).sum()\n",
    "ativos_ajustes_mais_realizadas  = ativos_ajustes_mais_realizadas .sort_values(by=['contador'],ascending=False)\n",
    "ativos_ajustes_mais_realizadas.head(10)"
   ]
  },
  {
   "cell_type": "markdown",
   "metadata": {},
   "source": [
    "### Equipamentos com maior numero de atividades classificadas como ajuste "
   ]
  },
  {
   "cell_type": "code",
   "execution_count": null,
   "metadata": {},
   "outputs": [],
   "source": [
    "# Equipamentos com maior numero de atividades de ajuste realizadas\n",
    "eca = arquivo_final.loc[arquivo_final['Tipo OS'].str.contains(\"Ajuste\",na = False)]\n",
    "eca = eca.loc[eca['Ativo'].str.contains(\"Prensa|Injetora|INJETORA|Ultrassom|Termo|Torre|Compressor|Estufa|Printer|Pick|Forno|Talha|Meta|chiller\",na = False)]\n",
    "eca = eca.loc[~eca['Ativo'].str.contains(\"Área\")]\n",
    "equi_ajustes_mais_realizadas = eca[['Ativo','Descricao','Tipo OS','contador']].groupby(['Ativo','Descricao','Tipo OS']).sum()\n",
    "equi_ajustes_mais_realizadas = equi_ajustes_mais_realizadas.sort_values(by=['contador'],ascending=False)\n",
    "equi_ajustes_mais_realizadas.head(10)"
   ]
  },
  {
   "cell_type": "code",
   "execution_count": null,
   "metadata": {},
   "outputs": [],
   "source": [
    "#Criando um arquivo com o Tipo de Tarefa 'ajuste' para analise de palavras mais comuns, usada na parte de análise de falhas:\n",
    "ajustes_analise_falha = eca[['Atividade']]\n",
    "ajustes_analise_falha.to_csv('NOME DO ARQUIVO 2 CSV.csv',index=False)\n",
    "ajustes_analise_falha.head()"
   ]
  },
  {
   "cell_type": "markdown",
   "metadata": {},
   "source": [
    "### Análise dos termos mais comuns para descrição das atividades realizadas"
   ]
  },
  {
   "cell_type": "code",
   "execution_count": null,
   "metadata": {},
   "outputs": [],
   "source": [
    "# Download do arquivo que será utilizado.\n",
    "# O arquivo foi criado durante as análises de dados do período:\n",
    "arquivo_analise_falha = 'file:CAMINHO EM QUE O ARQUIVO 2 CSV COM AS TAREFAS FOI SALVO'\n",
    "\n",
    "# Abrindo arquivo csv baixado:\n",
    "with open(\"NOME ARQUIVO 2 CSV\", encoding=\"utf8\") as text_file:\n",
    "    contents_2 = text_file.read()\n",
    "\n",
    "from collections import Counter #para encontrar os elementos de lista mais comuns\n",
    "\n",
    "palavras_2 = contents_2.lower()\n",
    "palavras_2 = palavras_2.replace('\\n',' ').replace('\\t','').split(' ')\n",
    "\n",
    "# Contador para as ocorrencias de cada palavra\n",
    "contador_2 = Counter(palavras_2)\n",
    "    \n",
    "for i in contador_2.items():\n",
    "    print (i)\n",
    "\n",
    "import collections #para ajudá-lo a trabalhar com tuplas, dicionários e listas\n",
    "\n",
    "# Lista de palavras\n",
    "palavras_2 = contents_2.lower()\n",
    "palavras_2 = palavras_2.replace('\\n',' ').replace('\\t','').split(' ')\n",
    "\n",
    "\n",
    "# As 100 palavras mais frequentes\n",
    "contador_2 = contador_2.most_common(100)\n",
    "print('\\n\\n')\n",
    "print (f'Palavras que mais aparecem : {contador_2}')"
   ]
  },
  {
   "cell_type": "markdown",
   "metadata": {},
   "source": [
    "---"
   ]
  }
 ],
 "metadata": {
  "colab": {
   "name": "Projeto_Integrado.ipynb",
   "provenance": []
  },
  "kernelspec": {
   "display_name": "Python 3",
   "language": "python",
   "name": "python3"
  },
  "language_info": {
   "codemirror_mode": {
    "name": "ipython",
    "version": 3
   },
   "file_extension": ".py",
   "mimetype": "text/x-python",
   "name": "python",
   "nbconvert_exporter": "python",
   "pygments_lexer": "ipython3",
   "version": "3.7.6"
  }
 },
 "nbformat": 4,
 "nbformat_minor": 1
}
