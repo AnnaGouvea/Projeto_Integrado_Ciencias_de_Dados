{
 "cells": [
  {
   "cell_type": "markdown",
   "metadata": {},
   "source": [
    "# ANÁLISE DE ATIVIDADES DE MANUTENÇÃO E DE CONFIABILIDADE DE ATIVOS DE UMA EMPRESA FABRICANTE DE SINALIZAÇÃO PARA VEÍCULOS PESADOS E COMERCIAIS"
   ]
  },
  {
   "cell_type": "markdown",
   "metadata": {},
   "source": [
    "### Ana Luiza Figueiredo Gouvea"
   ]
  },
  {
   "cell_type": "markdown",
   "metadata": {},
   "source": [
    "# Visão Geral (2019 - 2021)"
   ]
  },
  {
   "cell_type": "markdown",
   "metadata": {},
   "source": [
    "Este trabalho visa analisar os dados do setor de manutenção de uma empresa fabricante de sinalização para veículos pesados e comerciais, gerando informações sobre a confiabilidade dos ativos e também sobre os resultados da atuação do setor de manutenção ao decorrer dos anos.  Para isso, serão analisadas informações referentes aos principais tipos de atividades realizadas pelo setor, sendo elas classificadas como corretivas, preventivas e melhorias."
   ]
  },
  {
   "cell_type": "markdown",
   "metadata": {},
   "source": [
    "Para a análise dos dados entre janeiro de 2019 e maio de 2021, foram usadas planilhas geradas por um software terceiro contratado pela empresa. Os dados foram gerados em 6 planilhas no formato xlsx. Atualmente, a empresa não possui mais acesso ao software e essas planilhas encontram-se salvas no banco de dados interno do setor de manutenção. \n",
    "O software terceiro gera planilhas sem separação por tipo de atividade. \n"
   ]
  },
  {
   "cell_type": "markdown",
   "metadata": {},
   "source": [
    "---"
   ]
  },
  {
   "cell_type": "markdown",
   "metadata": {},
   "source": [
    "### Importação das bibliotecas "
   ]
  },
  {
   "cell_type": "code",
   "execution_count": null,
   "metadata": {},
   "outputs": [],
   "source": [
    "# Instalações de pacotes:\n",
    "!pip install pyspark \n",
    "!pip install jupyter \n",
    "!pip install findspark \n",
    "\n",
    "#Serão necessários na parte de analise de analise de palavras -> Utilizado na parte de analise das atividades 'corretivas'."
   ]
  },
  {
   "cell_type": "code",
   "execution_count": null,
   "metadata": {
    "id": "g5hJo73fMUVr"
   },
   "outputs": [],
   "source": [
    "# -*- coding: utf-8 -*-\n",
    "# Bibliotecas para analise dos dados:\n",
    "import os\n",
    "import numpy as np\n",
    "import pandas as pd\n",
    "import seaborn as sns\n",
    "import matplotlib\n",
    "import matplotlib.pyplot as plt\n",
    "from datetime import datetime as dt\n",
    "\n",
    "# -----------------------------------------\n",
    "#Instalação das bibliotecas para analise de palavras -> Utilizado na parte de analise das atividades 'corretivas':\n",
    "\n",
    "import findspark\n",
    "import pyspark\n",
    "import nltk\n",
    "import string\n",
    "import collections\n",
    "from collections import Counter\n",
    "#---------------------------------------------\n",
    "# Impressão das Versões das Bibliotecas utilizadas:\n",
    "print(f'Matplot version: {matplotlib.__version__}')\n",
    "print(f'Numpy version: {np.__version__}')\n",
    "print(f'Pandas version: {pd.__version__}')\n",
    "print(f'Seaborn version: {sns.__version__}')\n",
    "print(f'Findspark version: {findspark.__version__}')\n",
    "print(f'Pyspark version: {pyspark.__version__}')\n",
    "print(f'NLTK version: {nltk.__version__}')\n",
    "\n",
    "#--------------------------------------------\n",
    "\n",
    "print('Download das bibliotecas completo!')"
   ]
  },
  {
   "cell_type": "markdown",
   "metadata": {},
   "source": [
    "### Importação dos arquivos"
   ]
  },
  {
   "cell_type": "code",
   "execution_count": null,
   "metadata": {
    "colab": {
     "base_uri": "https://localhost:8080/",
     "height": 225
    },
    "id": "aPZbhp8SMaJ2",
    "outputId": "50cdedce-8aad-4d6c-926e-c95cdfcb74fe"
   },
   "outputs": [],
   "source": [
    "# Caminho para a pasta em que os arquivos estão:\n",
    "path = r'CAMINHO PARA A PASTA EM QUE OS ARQUIVOS XLSX ANALISADOS ESTÃO'\n",
    "files  = os.listdir(path) #listando os arquivos encontrados\n",
    "df = pd.DataFrame()"
   ]
  },
  {
   "cell_type": "code",
   "execution_count": null,
   "metadata": {
    "id": "vXsGrMB6PskG"
   },
   "outputs": [],
   "source": [
    "# Arquivos encontrados dentro da pasta:\n",
    "print(files)"
   ]
  },
  {
   "cell_type": "code",
   "execution_count": null,
   "metadata": {},
   "outputs": [],
   "source": [
    "#Para garantir que iremos analizar apenas arquivos xlsx:\n",
    "files_xlsx = (path + '\\\\' + f for f in files if f[-4:] == 'xlsx')"
   ]
  },
  {
   "cell_type": "code",
   "execution_count": null,
   "metadata": {},
   "outputs": [],
   "source": [
    "# Concatenação em um unico DataFrame para análise:\n",
    "for f in files_xlsx:\n",
    "    data = pd.read_excel(f) # lendo os arquivos xlsx\n",
    "    df = df.append(data) # adicionando todos em um mesmo dataframe 'df'"
   ]
  },
  {
   "cell_type": "code",
   "execution_count": null,
   "metadata": {},
   "outputs": [],
   "source": [
    "#Informações do DataFrame:\n",
    "df.info()"
   ]
  },
  {
   "cell_type": "code",
   "execution_count": null,
   "metadata": {},
   "outputs": [],
   "source": [
    "# Visualização das primeiras linhas do DataFrame:\n",
    "df.head()"
   ]
  },
  {
   "cell_type": "markdown",
   "metadata": {},
   "source": [
    "### Tratamento de Dados"
   ]
  },
  {
   "cell_type": "markdown",
   "metadata": {},
   "source": [
    "Vamos filtrar apenas as colunas que iremos utilizar em nossas análise, sendo elas: 'Ativo', 'Tipo de ativo' ,classificados como instalação (Infraestrutura) ou Equipamento (máquina), a 'Tarefa', o 'Tipo de Tarefa', e 'Data Final' da atividade."
   ]
  },
  {
   "cell_type": "code",
   "execution_count": null,
   "metadata": {
    "id": "qWMZiereVFYI"
   },
   "outputs": [],
   "source": [
    "# Criação do arquivo com as colunas que serão utilizadas:\n",
    "arquivo_final = df[['Ativo','Tipo de Ativo','Tarefa','Tipo de tarefa','Data final']]\n",
    "arquivo_final.head()"
   ]
  },
  {
   "cell_type": "code",
   "execution_count": null,
   "metadata": {
    "id": "hX7e5ZbEdBLe"
   },
   "outputs": [],
   "source": [
    "# Informações do arquivo:\n",
    "arquivo_final.info()"
   ]
  },
  {
   "cell_type": "code",
   "execution_count": null,
   "metadata": {
    "id": "yKip2i_XHOrG"
   },
   "outputs": [],
   "source": [
    "#Foi criado uma coluna com valor 1 para auxiliar nas contagens:\n",
    "arquivo_final.insert(loc=0,column='contador',value=1)\n",
    "arquivo_final"
   ]
  },
  {
   "cell_type": "markdown",
   "metadata": {},
   "source": [
    "# ** Análise do Período **"
   ]
  },
  {
   "cell_type": "code",
   "execution_count": null,
   "metadata": {},
   "outputs": [],
   "source": [
    "# Filtrar dados no período que se deseja:\n",
    "periodo = '2019'  # AQUI É COLOCADO O ANO QUE SE DESEJA ANALISAR\n",
    "arquivo_final_periodo = arquivo_final.loc[arquivo_final['Data final'].str.contains(periodo,na = False)]\n",
    "arquivo_final_periodo"
   ]
  },
  {
   "cell_type": "markdown",
   "metadata": {},
   "source": [
    "### Tipos de tarefas mais executadas"
   ]
  },
  {
   "cell_type": "code",
   "execution_count": null,
   "metadata": {
    "id": "TIA4NNVE8viy"
   },
   "outputs": [],
   "source": [
    "# Tipos de Tarefa:\n",
    "tipos_tarefas_mais_realizadas = arquivo_final_periodo[['Tipo de tarefa','contador']].groupby('Tipo de tarefa').sum()\n",
    "tipos_tarefas_mais_realizadas = tipos_tarefas_mais_realizadas.sort_values(by=['contador'],ascending=False)\n",
    "tipos_tarefas_mais_realizadas"
   ]
  },
  {
   "cell_type": "code",
   "execution_count": null,
   "metadata": {},
   "outputs": [],
   "source": [
    "#Grafico Tipos de Tarefas mais executadas no período:\n",
    "\n",
    "tipos_tarefas_mais_realizadas = tipos_tarefas_mais_realizadas.head(10)\n",
    "indice_x = tipos_tarefas_mais_realizadas['contador']\n",
    "nomes_tarefas = (tipos_tarefas_mais_realizadas.index)\n",
    "plt.figure(figsize=(15,10))\n",
    "sns.set_style('white') # deixar o fundo do grafico branco. Caso o código seja aplicado em um compilador com a tela de fundo escura.\n",
    "figura_tarefas = sns.barplot(x=indice_x,y=nomes_tarefas,palette = 'inferno')\n",
    "figura_tarefas.set_title('Os 10 tipos de Tarefas mais realizadas no período',fontsize = 20)\n",
    "figura_tarefas.set_xlabel('Numero de atividades',fontsize=15)\n",
    "figura_tarefas.set_ylabel('Tipos de Tarefas',fontsize = 15)\n",
    "figura_tarefas"
   ]
  },
  {
   "cell_type": "markdown",
   "metadata": {},
   "source": [
    "### Instalações com maior numero de atividades realizadas"
   ]
  },
  {
   "cell_type": "markdown",
   "metadata": {},
   "source": [
    "Análise de atividades em ativos classificados como Instalações (infraestrutura)."
   ]
  },
  {
   "cell_type": "code",
   "execution_count": null,
   "metadata": {},
   "outputs": [],
   "source": [
    "# Selecionar 'ativos' classificados como 'Instalações':\n",
    "ativ_i = arquivo_final_periodo.loc[arquivo_final_periodo['Tipo de Ativo'].str.contains(\"Instalações\",na = False)]"
   ]
  },
  {
   "cell_type": "code",
   "execution_count": null,
   "metadata": {},
   "outputs": [],
   "source": [
    "# Atividades para 'tipos de ativo' classificados como 'instalações':\n",
    "instalações_atividades_mais_realizadas = ativ_i[['Ativo','contador']].groupby('Ativo').sum()\n",
    "instalações_atividades_mais_realizadas = instalações_atividades_mais_realizadas.sort_values(by=['contador'],ascending=False)\n",
    "instalações_atividades_mais_realizadas.head(10)\n"
   ]
  },
  {
   "cell_type": "code",
   "execution_count": null,
   "metadata": {},
   "outputs": [],
   "source": [
    "# Grafico Instalações com maior numero de atividades realizadas no período:\n",
    "\n",
    "instalações_mais_realizadas = instalações_atividades_mais_realizadas.head(10)\n",
    "indice_x = instalações_mais_realizadas ['contador'].head(10)\n",
    "nomes_instalações = instalações_mais_realizadas.index\n",
    "fig = plt.figure(figsize=(15,10))\n",
    "sns.set_style('white')\n",
    "figura_instalações = sns.barplot(x=indice_x,y=nomes_instalações ,palette = 'mako')\n",
    "figura_instalações.set_title('As instalações de infraestrutura com o maior numero de atividades realizadas ',fontsize = 20)\n",
    "figura_instalações.set_xlabel('Numero de atividades',fontsize=15)\n",
    "figura_instalações.set_ylabel('Instalações',fontsize = 15)\n",
    "figura_instalações "
   ]
  },
  {
   "cell_type": "markdown",
   "metadata": {},
   "source": [
    "### Instalações com menor numero de atividades realizadas"
   ]
  },
  {
   "cell_type": "code",
   "execution_count": null,
   "metadata": {},
   "outputs": [],
   "source": [
    "# Atividades para 'tipos de ativo' classificados como 'instalações':\n",
    "instalações_menos_realizadas = instalações_atividades_mais_realizadas.tail(10)\n",
    "instalações_menos_realizadas"
   ]
  },
  {
   "cell_type": "markdown",
   "metadata": {},
   "source": [
    "### Equipamentos com maior numero de atividades realizadas"
   ]
  },
  {
   "cell_type": "markdown",
   "metadata": {},
   "source": [
    "Análise de atividades em ativos classificados como Equipamentos (máquinas)."
   ]
  },
  {
   "cell_type": "code",
   "execution_count": null,
   "metadata": {},
   "outputs": [],
   "source": [
    "# Selecionar ativos classificados como 'Equipamentos':\n",
    "ativ_e = arquivo_final_periodo.loc[arquivo_final_periodo['Tipo de Ativo'].str.contains(\"Equipamentos\",na = False)]"
   ]
  },
  {
   "cell_type": "code",
   "execution_count": null,
   "metadata": {},
   "outputs": [],
   "source": [
    "# Selecionar ativos classificados como equipamentos que possuem o maior numero de atividades realizadas cadastradas:\n",
    "equipamentos_atividades_mais_realizadas = ativ_e[['Ativo','contador']].groupby('Ativo').sum()\n",
    "equipamentos_atividades_mais_realizadas = equipamentos_atividades_mais_realizadas.sort_values(by=['contador'],ascending=False)\n",
    "equipamentos_atividades_mais_realizadas.head(10)\n"
   ]
  },
  {
   "cell_type": "code",
   "execution_count": null,
   "metadata": {},
   "outputs": [],
   "source": [
    "# Grafico Equipamentos com maior numero de atividades realizadas:\n",
    "\n",
    "equipamentos_mais_realizados = equipamentos_atividades_mais_realizadas.head(10)\n",
    "indice_x = equipamentos_mais_realizados ['contador']\n",
    "nomes_equipamentos = equipamentos_mais_realizados.index\n",
    "fig = plt.figure(figsize=(15,10))\n",
    "sns.set_style('white')\n",
    "figura_equipamentos = sns.barplot(x=indice_x,y=nomes_equipamentos ,palette = 'bone')\n",
    "figura_equipamentos.set_title('Os 10 Equipamentos com maior numero de atividades realizadas',fontsize = 20)\n",
    "figura_equipamentos.set_xlabel('Numero de atividades',fontsize=15)\n",
    "figura_equipamentos.set_ylabel('Equipamentos',fontsize = 15)\n",
    "figura_equipamentos "
   ]
  },
  {
   "cell_type": "markdown",
   "metadata": {},
   "source": [
    "### Equipamentos com menor numero de atividades realizadas"
   ]
  },
  {
   "cell_type": "code",
   "execution_count": null,
   "metadata": {},
   "outputs": [],
   "source": [
    "equipamentos_menos_realizados = equipamentos_atividades_mais_realizadas.tail(30)\n",
    "equipamentos_menos_realizados"
   ]
  },
  {
   "cell_type": "markdown",
   "metadata": {},
   "source": [
    "---"
   ]
  },
  {
   "cell_type": "markdown",
   "metadata": {},
   "source": [
    "##                                               ----------- Preventivas -------------"
   ]
  },
  {
   "cell_type": "markdown",
   "metadata": {},
   "source": [
    "### Instalações com maior numero de atividades preventivas realizadas"
   ]
  },
  {
   "cell_type": "code",
   "execution_count": null,
   "metadata": {},
   "outputs": [],
   "source": [
    "# Filtrar pelo tipo de tarefa classificada como preventiva:\n",
    "prev_i = ativ_i.loc[ativ_i['Tipo de tarefa'].str.contains(\"Preventiva\",na = False)]"
   ]
  },
  {
   "cell_type": "code",
   "execution_count": null,
   "metadata": {},
   "outputs": [],
   "source": [
    "# Selecionar os 10 ativos com maior numero de atividades preventivas realizadas:\n",
    "instalações_preventivas_mais_realizadas = prev_i[['Ativo','contador']].groupby('Ativo').sum()\n",
    "instalações_preventivas_mais_realizadas = instalações_preventivas_mais_realizadas .sort_values(by=['contador'],ascending=False)\n",
    "instalações_preventivas_mais_realizadas.head(10)"
   ]
  },
  {
   "cell_type": "code",
   "execution_count": null,
   "metadata": {},
   "outputs": [],
   "source": [
    "# Selecionar os 10 ativos com menor numero de atividades preventivas realizadas:\n",
    "instalações_menos_preventivas = instalações_preventivas_mais_realizadas.tail(10)\n",
    "instalações_menos_preventivas"
   ]
  },
  {
   "cell_type": "code",
   "execution_count": null,
   "metadata": {},
   "outputs": [],
   "source": [
    "# Mostrar informações das linhas para o ativo com a string 'Planta 1':\n",
    "prev_i.loc[prev_i['Ativo'].str.contains(\"Planta 1\",na = False)]"
   ]
  },
  {
   "cell_type": "markdown",
   "metadata": {},
   "source": [
    "### Equipamentos com maior numero de atividades preventivas realizadas"
   ]
  },
  {
   "cell_type": "code",
   "execution_count": null,
   "metadata": {},
   "outputs": [],
   "source": [
    "# Filtrar pelo 'tipo de tarefa' classificada como 'preventiva':\n",
    "prev_e = ativ_e.loc[ativ_e['Tipo de tarefa'].str.contains(\"Preventiva\",na = False)]"
   ]
  },
  {
   "cell_type": "code",
   "execution_count": null,
   "metadata": {
    "scrolled": true
   },
   "outputs": [],
   "source": [
    "# Selecionar os 10 ativos com maior numero de atividades preventivas realizadas:\n",
    "ativos_preventivas_mais_realizadas = prev_e[['Ativo','contador']].groupby('Ativo').sum()\n",
    "ativos_preventivas_mais_realizadas  = ativos_preventivas_mais_realizadas .sort_values(by=['contador'],ascending=False)\n",
    "ativos_preventivas_mais_realizadas.head(10)\n"
   ]
  },
  {
   "cell_type": "markdown",
   "metadata": {},
   "source": [
    "### Equipamentos com menor numero de atividades preventivas realizadas"
   ]
  },
  {
   "cell_type": "code",
   "execution_count": null,
   "metadata": {},
   "outputs": [],
   "source": [
    "# Selecionar os 10 ativos com menor numero de atividades preventivas realizadas:\n",
    "preventivas_menos_realizadas = ativos_preventivas_mais_realizadas.tail(30)\n",
    "preventivas_menos_realizadas"
   ]
  },
  {
   "cell_type": "markdown",
   "metadata": {},
   "source": [
    "### Atividades Preventivas X Mês X Ano "
   ]
  },
  {
   "cell_type": "code",
   "execution_count": null,
   "metadata": {},
   "outputs": [],
   "source": [
    "# Separação do numero de atividades preventivas por dia:\n",
    "ativ_prev = arquivo_final_periodo.loc[arquivo_final_periodo['Tipo de tarefa'].str.contains(\"Preventiva\",na = False)]\n",
    "ativ_prev['Data final'] = pd.to_datetime(ativ_prev['Data final'], format= '%Y%m%d %H:%M:%S') \n",
    "                      \n",
    "# Numero de atividades preventivas no ano analisado:\n",
    "ativ_prev_periodo = ativ_prev[['Data final']]\n",
    "ativ_prev_periodo = ativ_prev_periodo.groupby([ativ_prev_periodo['Data final'].dt.year.rename('Ano'), ativ_prev_periodo['Data final'].dt.month.rename('Mês')]).agg({'count'})\n",
    "print (ativ_prev_periodo)\n",
    "print(\"O numero de atividades preventivas totais foi de: \",ativ_prev_periodo['Data final'].sum())"
   ]
  },
  {
   "cell_type": "markdown",
   "metadata": {},
   "source": [
    "---"
   ]
  },
  {
   "cell_type": "markdown",
   "metadata": {},
   "source": [
    "##  ----------- Corretivas  -----------"
   ]
  },
  {
   "cell_type": "markdown",
   "metadata": {},
   "source": [
    "### Instalações com o maior numero de Corretivas realizadas"
   ]
  },
  {
   "cell_type": "code",
   "execution_count": null,
   "metadata": {},
   "outputs": [],
   "source": [
    "# Filtrar pelo tipo de tarefa classificada como corretiva\n",
    "corret_i = ativ_i.loc[ativ_i['Tipo de tarefa'].str.contains(\"Corretiva\",na = False)]"
   ]
  },
  {
   "cell_type": "code",
   "execution_count": null,
   "metadata": {},
   "outputs": [],
   "source": [
    "# Selecionar os 10 ativos com maior numero de atividades corretivas realizadas:\n",
    "instalações_corretivas_mais_realizadas = corret_i[['Ativo','contador']].groupby('Ativo').sum()\n",
    "instalações_corretivas_mais_realizadas = instalações_corretivas_mais_realizadas .sort_values(by=['contador'],ascending=False)\n",
    "instalações_corretivas_mais_realizadas.head(10)\n"
   ]
  },
  {
   "cell_type": "code",
   "execution_count": null,
   "metadata": {},
   "outputs": [],
   "source": [
    "# Mostrar informações da linha para o equipamento \"Planta 2\"\n",
    "corret_i.loc[corret_i['Ativo'].str.contains(\"Planta 2\", na = False)]"
   ]
  },
  {
   "cell_type": "code",
   "execution_count": null,
   "metadata": {},
   "outputs": [],
   "source": [
    "# Selecionar os 10 ativos com menor numero de atividades corretivas realizadas:\n",
    "instalações_menos_corretivas = instalações_corretivas_mais_realizadas.tail(10)\n",
    "instalações_menos_corretivas"
   ]
  },
  {
   "cell_type": "markdown",
   "metadata": {},
   "source": [
    "### Equipamentos com maior numero de atividades corretivas realizadas"
   ]
  },
  {
   "cell_type": "code",
   "execution_count": null,
   "metadata": {},
   "outputs": [],
   "source": [
    "# Selecionar os 10 equipametnos com maior numero de atividades corretivas realizadas:\n",
    "corret_e = ativ_e.loc[ativ_e['Tipo de tarefa'].str.contains(\"Corretiva\",na = False)]\n",
    "\n",
    "equip_corretivas_mais_realizadas = corret_e[['Ativo','contador']].groupby('Ativo').sum()\n",
    "equip_corretivas_mais_realizadas = equip_corretivas_mais_realizadas.sort_values(by=['contador'],ascending=False)\n",
    "equip_corretivas_mais_realizadas.head(10)"
   ]
  },
  {
   "cell_type": "code",
   "execution_count": null,
   "metadata": {},
   "outputs": [],
   "source": [
    "# Selecionar os 10 equipametnos com menor numero de atividades corretivas realizadas:\n",
    "equip_menos_corretivas = equip_corretivas_mais_realizadas.tail(10)\n",
    "equip_menos_corretivas"
   ]
  },
  {
   "cell_type": "code",
   "execution_count": null,
   "metadata": {},
   "outputs": [],
   "source": [
    "#Criando um arquivo com o Tipo de Tarefa 'corretiva' para analise de palavras mais comuns, usada na parte de análise\n",
    "# de falhas em equipamentos:\n",
    "# Selecionando apenas 'Terefa'\n",
    "corretiva_analise_tarefa = corret_e[['Tarefa']]\n",
    "corretiva_analise_tarefa.to_csv('NOME DO ARQUIVO CSV .csv',index=False)\n",
    "corretiva_analise_tarefa.head()"
   ]
  },
  {
   "cell_type": "markdown",
   "metadata": {},
   "source": [
    "### Atividades Corretivas X Mês X Ano"
   ]
  },
  {
   "cell_type": "code",
   "execution_count": null,
   "metadata": {},
   "outputs": [],
   "source": [
    "# Visualização das datas com maior numero de atividades corretivas no período:\n",
    "ativ_corret = arquivo_final_periodo.loc[arquivo_final_periodo['Tipo de tarefa'].str.contains(\"Corretiva\",na = False)]\n",
    "ativ_corret['Data final'] = pd.to_datetime(ativ_corret['Data final'], format= '%Y%m%d %H:%M:%S')\n",
    "\n",
    "# Numero de atividades corretivas no ano analisado:\n",
    "ativ_corret_periodo = ativ_corret[['Data final']]\n",
    "ativ_corret_periodo = ativ_corret_periodo.groupby([ativ_corret_periodo['Data final'].dt.year.rename('Ano'), ativ_corret_periodo['Data final'].dt.month.rename('Mês')]).agg({'count'})\n",
    "print(ativ_corret_periodo)\n",
    "print(\"O numero de atividades corretivas totais foi de: \",ativ_corret_periodo['Data final'].sum())\n"
   ]
  },
  {
   "cell_type": "markdown",
   "metadata": {},
   "source": [
    "### Análise dos termos mais comuns para descrição das atividades realizadas"
   ]
  },
  {
   "cell_type": "code",
   "execution_count": null,
   "metadata": {},
   "outputs": [],
   "source": [
    "# Habilitar findspark para uso do Spark\n",
    "# Caminho para pacote instalado\n",
    "findspark.init('CAMINHO EM QUE O PACOTE PYSPARK FOI SALVO')\n",
    "# foi utilizado o' findspark.init' pois a função 'findspark.find()' não foi reconhecida."
   ]
  },
  {
   "cell_type": "code",
   "execution_count": null,
   "metadata": {},
   "outputs": [],
   "source": [
    "# Inicialização do contexto spark:\n",
    "#sc1 = pyspark.SparkContext(appName='corretiva_tarefas_periodo')"
   ]
  },
  {
   "cell_type": "code",
   "execution_count": null,
   "metadata": {},
   "outputs": [],
   "source": [
    "#Contagem de palavras com NLTK\n",
    "nltk.download('stopwords')\n",
    "nltk.download('punkt')\n",
    "\n",
    "# Download do arquivo que será utilizado.\n",
    "# O arquivo foi criado durante as análises de dados do período:\n",
    "arquivo_analise_falha = 'file:CAMINHO EM QUE O ARQUIVO CSV COM AS TAREFAS FOI SALVO'\n",
    "stopwords = nltk.corpus.stopwords.words('portuguese') # Uso do idioma portugues\n",
    "punctuation = string.punctuation"
   ]
  },
  {
   "cell_type": "code",
   "execution_count": null,
   "metadata": {},
   "outputs": [],
   "source": [
    "# Abrindo arquivo csv baixado:\n",
    "with open(\"NOME DO ARQUIVO CSV COM AS TAREFAS\", encoding=\"utf8\") as text_file:\n",
    "    contents = text_file.read()"
   ]
  },
  {
   "cell_type": "code",
   "execution_count": null,
   "metadata": {},
   "outputs": [],
   "source": [
    "from collections import Counter\n",
    "\n",
    "palavras = contents.lower()\n",
    "palavras = palavras.replace('\\n',' ').replace('\\t','').split(' ')\n",
    "\n",
    "contador = Counter(palavras)\n",
    "    \n",
    "for i in contador.items():\n",
    "    print (i)"
   ]
  },
  {
   "cell_type": "code",
   "execution_count": null,
   "metadata": {},
   "outputs": [],
   "source": [
    "import collections\n",
    "\n",
    "# Lista de palavras\n",
    "palavras = contents.lower()\n",
    "palavras = palavras.replace('\\n',' ').replace('\\t','').split(' ')\n",
    "\n",
    "# Contador para as ocorrencias de cada palavra\n",
    "contador = Counter(palavras)\n",
    "\n",
    "# As 100 palavras mais frequentes\n",
    "contador = contador.most_common(100)\n",
    "\n",
    "print (f'{contador}')"
   ]
  },
  {
   "cell_type": "markdown",
   "metadata": {},
   "source": [
    "### Média de Falhas Atendidas Por Dia Durante o Período Por Equipamento"
   ]
  },
  {
   "cell_type": "markdown",
   "metadata": {},
   "source": [
    "Como não possuímos os tempos corretos de operação de cada equipamento, aqui foi analisado o intervalo de dias entre falhas."
   ]
  },
  {
   "cell_type": "code",
   "execution_count": null,
   "metadata": {},
   "outputs": [],
   "source": [
    "#Listas\n",
    "lista_maquina = []\n",
    "\n",
    "# Codigo da função que permitirá digitar os equipamentos que se deseja analisar\n",
    "def menu():\n",
    "    #Variável:\n",
    "    continuar = 1\n",
    "    #Código condicional para permitir adicionar os nomes das máquinas que se deseja analisar:\n",
    "    while(continuar):\n",
    "        continuar = int(input(\"0. Sair\\n\"+ \"1. Para inserir maquinas\\n\"))            \n",
    "        if(continuar == 1):  # se o nuero digitado for 1, a condição é atendida.\n",
    "            maquina = input(\"Digite as maquinas para calculo da média: \")\n",
    "            lista_maquina.append(maquina)\n",
    "    print(lista_maquina)\n",
    "\n",
    "# Para ativar o codigo da função\n",
    "menu() "
   ]
  },
  {
   "cell_type": "code",
   "execution_count": null,
   "metadata": {},
   "outputs": [],
   "source": [
    "# Listas\n",
    "dias =[]\n",
    "dias_maquina = []\n",
    "media_t = []\n",
    "lista_m = []\n",
    "\n",
    "#Variáveis\n",
    "m = 0\n",
    "x = 0\n",
    "i = 0\n",
    "\n",
    "# Código condicional\n",
    "\n",
    "for maq in lista_maquina:\n",
    "    equip_corretiva_mfpd = arquivo_final_periodo.loc[arquivo_final_periodo['Tipo de tarefa'].str.contains(\"Corretiva\",na = False)]\n",
    "    equip_corretiva_mfpd = equip_corretiva_mfpd.loc[equip_corretiva_mfpd['Tipo de Ativo'].str.contains(\"Equipamento\",na = False)]\n",
    "    equip_corretiva_mfpd = equip_corretiva_mfpd.loc[~equip_corretiva_mfpd['Tipo de tarefa'].str.contains(\"molde|Molde\",na = False)]\n",
    "    equip_corretiva_mfpd = equip_corretiva_mfpd.loc[equip_corretiva_mfpd['Ativo'].str.contains(maq,na = False)]\n",
    "    equip_corretiva_mfpd = equip_corretiva_mfpd.loc[~equip_corretiva_mfpd['Ativo'].str.contains(\"Planta 3|Planta 2\",na = False)]\n",
    "    equip_corretiva_mfpd['Data final'] = pd.to_datetime(equip_corretiva_mfpd['Data final'],infer_datetime_format=True) \n",
    "\n",
    "    equip_corretiva_mfpd_tempo = equip_corretiva_mfpd[['Tipo de Ativo','Data final']].groupby('Tipo de Ativo').sum()\n",
    "    equip_corretiva_mfpd_tempo = equip_corretiva_mfpd.sort_values(by=['Data final'],ascending=False)\n",
    "\n",
    "\n",
    "    m = equip_corretiva_mfpd_tempo['Data final'].count()\n",
    "    lista_m.append(m)\n",
    "    x = m-1\n",
    "        \n",
    "    for i in range(x):\n",
    "        # Data final\n",
    "        d2 = equip_corretiva_mfpd_tempo['Data final'].iloc[i]\n",
    "\n",
    "        # Data inicial\n",
    "        d1 = equip_corretiva_mfpd_tempo['Data final'].iloc[i+1]\n",
    "\n",
    "        # Calculo da quantidade de dias\n",
    "        quantidade_dias = abs((d2 - d1).days)\n",
    "        dias.append(quantidade_dias)\n",
    "        i = i+1\n",
    "        \n",
    "    dias_maquina.append(dias)\n",
    "    soma_dias = sum(dias)\n",
    "    media_dias = soma_dias/x\n",
    "    media_t.append(media_dias)    \n",
    "    dias =[] # lista dias é novamente zerada para guardar apenas as informações da próxima maquina analisada\n",
    "    \n",
    "# DataFrame com os dados resultante\n",
    "df_mfpd=pd.DataFrame({\"Maquina\":lista_maquina,\"Ocorrências\":lista_m,\"Média\":media_t})\n",
    "\n",
    "\n",
    "#Utilizamos a função abs para garantir que a quantidade de dias de diferença seja sempre positiva, \n",
    "#independente da ordem em que as datas foram subtraídas"
   ]
  },
  {
   "cell_type": "code",
   "execution_count": null,
   "metadata": {},
   "outputs": [],
   "source": [
    "# Vizualização do DataFrame:\n",
    "df_mfpd.sort_values(by=['Ocorrências'],ascending=False)"
   ]
  },
  {
   "cell_type": "code",
   "execution_count": null,
   "metadata": {},
   "outputs": [],
   "source": [
    "# Visualização das atividades corretivas realizadas nas injetoras da 'Planta 1':\n",
    "# As Injetoras foram os equipamentos com **maior** numero de ocorrências no período.\n",
    "\n",
    "# !Obs : Foram escolhidas injetoras que permaneceram na planta durante os períodos estudados.\n",
    "\n",
    "# Listas\n",
    "lista_injetoras = ['INJETORA 01','INJETORA 10','INJETORA 11','INJETORA 12','INJETORA 13','INJETORA 18','INJETORA 24','INJETORA 30']\n",
    "dias =[]\n",
    "dias_maquina = []\n",
    "media_t = []\n",
    "lista_m = []\n",
    "\n",
    "#Variáveis\n",
    "m = 0\n",
    "x = 0\n",
    "i = 0\n",
    "\n",
    "# Código condicional\n",
    "\n",
    "for inj in lista_injetoras:\n",
    "    equip_corretiva_mfpd = arquivo_final_periodo.loc[arquivo_final_periodo['Tipo de tarefa'].str.contains(\"Corretiva\",na = False)]\n",
    "    equip_corretiva_mfpd = equip_corretiva_mfpd.loc[equip_corretiva_mfpd['Tipo de Ativo'].str.contains(\"Equipamento\",na = False)]\n",
    "    equip_corretiva_mfpd = equip_corretiva_mfpd.loc[~equip_corretiva_mfpd['Tipo de tarefa'].str.contains(\"molde|Molde\",na = False)]\n",
    "    equip_corretiva_mfpd = equip_corretiva_mfpd.loc[equip_corretiva_mfpd['Ativo'].str.contains(inj,na = False)]\n",
    "    equip_corretiva_mfpd = equip_corretiva_mfpd.loc[~equip_corretiva_mfpd['Ativo'].str.contains(\"Planta 3|Planta 2\",na = False)]\n",
    "    equip_corretiva_mfpd['Data final'] = pd.to_datetime(equip_corretiva_mfpd['Data final'],infer_datetime_format=True) \n",
    "\n",
    "    equip_corretiva_mfpd_tempo = equip_corretiva_mfpd[['Tipo de Ativo','Data final']].groupby('Tipo de Ativo').sum()\n",
    "    equip_corretiva_mfpd_tempo = equip_corretiva_mfpd.sort_values(by=['Data final'],ascending=False)\n",
    "\n",
    "\n",
    "    m = equip_corretiva_mfpd_tempo['Data final'].count()\n",
    "    lista_m.append(m)\n",
    "    x = m-1\n",
    "        \n",
    "    for i in range(x):\n",
    "        # Data final\n",
    "        d2 = equip_corretiva_mfpd_tempo['Data final'].iloc[i]\n",
    "\n",
    "        # Data inicial\n",
    "        d1 = equip_corretiva_mfpd_tempo['Data final'].iloc[i+1]\n",
    "\n",
    "        # Calculo da quantidade de dias\n",
    "        quantidade_dias = abs((d2 - d1).days)\n",
    "        dias.append(quantidade_dias)\n",
    "        i = i+1\n",
    "        \n",
    "    dias_maquina.append(dias)\n",
    "    soma_dias = sum(dias)\n",
    "    media_dias = soma_dias/x\n",
    "    media_t.append(media_dias)    \n",
    "    dias =[] # lista dias é novamente zerada para guardar apenas as informações da próxima maquina analisada\n",
    "    \n",
    "# DataFrame com os dados resultante\n",
    "df_inj=pd.DataFrame({\"Maquina\":lista_injetoras,\"Ocorrências\":lista_m,\"Média\":media_t})\n",
    "\n",
    "# Vizualização do DataFrame:\n",
    "df_inj = df_inj.sort_values(by=['Ocorrências'],ascending=False)\n",
    "df_inj"
   ]
  },
  {
   "cell_type": "code",
   "execution_count": null,
   "metadata": {},
   "outputs": [],
   "source": [
    "# Visualização das atividades corretivas realizadas nas injetora 01 da 'Planta 1':\n",
    "# A Injetora 01 foi o equipamento com **maior** numero de ocorrências no período.\n",
    "equip_corretiva_mfpd = arquivo_final_periodo.loc[arquivo_final_periodo['Tipo de tarefa'].str.contains(\"Corretiva\",na = False)]\n",
    "equip_corretiva_mfpd = equip_corretiva_mfpd.loc[equip_corretiva_mfpd['Tipo de Ativo'].str.contains(\"Equipamento\",na = False)]\n",
    "equip_corretiva_mfpd = equip_corretiva_mfpd.loc[~equip_corretiva_mfpd['Tipo de tarefa'].str.contains(\"molde|Molde\",na = False)]\n",
    "equip_corretiva_mfpd = equip_corretiva_mfpd.loc[equip_corretiva_mfpd['Ativo'].str.contains('INJETORA 01',na = False)]\n",
    "equip_corretiva_mfpd = equip_corretiva_mfpd.loc[~equip_corretiva_mfpd['Ativo'].str.contains(\"Planta 3|Planta 2\",na = False)]\n",
    "equip_corretiva_mfpd['Data final'] = pd.to_datetime(equip_corretiva_mfpd['Data final'],infer_datetime_format=True) \n",
    "\n",
    "equip_corretiva_mfpd_tempo = equip_corretiva_mfpd[['Tipo de Ativo','Data final']].groupby('Tipo de Ativo').sum()\n",
    "equip_corretiva_mfpd_tempo = equip_corretiva_mfpd.sort_values(by=['Data final'],ascending=False)\n",
    "\n",
    "equip_corretiva_mfpd_tempo.head(10)"
   ]
  },
  {
   "cell_type": "markdown",
   "metadata": {},
   "source": [
    "---"
   ]
  },
  {
   "cell_type": "markdown",
   "metadata": {},
   "source": [
    "##  ----------- Preventivas x Corretivas  -----------"
   ]
  },
  {
   "cell_type": "code",
   "execution_count": null,
   "metadata": {},
   "outputs": [],
   "source": [
    "# Criação de DataFrame com os numeros de Preventivas e Corretivas por mês no período:\n",
    "m = pd.merge(ativ_prev_periodo, ativ_corret_periodo , how = 'inner', on = 'Mês')\n",
    "m.columns = ['Preventivas','Corretivas']\n",
    "m"
   ]
  },
  {
   "cell_type": "code",
   "execution_count": null,
   "metadata": {},
   "outputs": [],
   "source": [
    "# Grafico com os numeros de atividades Preventivas e Corretivas por mês no período:\n",
    "prev_b = m['Preventivas']\n",
    "corret_b = m['Corretivas']\n",
    "resultado = pd.crosstab(prev_b,corret_b)\n",
    "indice = m.index\n",
    "fig, ax = plt.subplots(figsize = [15,10])\n",
    "x = np.arange(len(indice))\n",
    "ax.set_xticks(x)\n",
    "ax.set_xticklabels(indice)\n",
    "ax.bar(x-0.2,prev_b,width = 0.4)\n",
    "ax.bar(x+0.2,corret_b,width = 0.4)\n",
    "# width é para alterar a largura da minha barra\n",
    "# deslocando o x nós conseguimos colocar uma barra do lado da outra\n",
    "plt.legend(['Preventivas','Corretivas'])"
   ]
  },
  {
   "cell_type": "code",
   "execution_count": null,
   "metadata": {},
   "outputs": [],
   "source": [
    "# Inserção de colunas com a si=oma de atividades e com a porcentages de cada atividade por mês:\n",
    "m.insert(loc=2,column='soma',value= m.sum(axis=1))\n",
    "por_prev = m['Preventivas']/m['soma'] * 100\n",
    "por_corret = m['Corretivas']/m['soma'] *100\n",
    "m.insert(loc=3,column='% Prev',value= por_prev)\n",
    "m.insert(loc=4,column='% Corret',value= por_corret)\n",
    "m"
   ]
  },
  {
   "cell_type": "code",
   "execution_count": null,
   "metadata": {},
   "outputs": [],
   "source": [
    "# Grafico %Preventivas x %Corretivas por mês no período:\n",
    "y = m.index\n",
    "prev = m['% Prev']\n",
    "corret= m['% Corret']\n",
    "plt.figure(figsize=(15, 10))\n",
    "plt.plot(y,prev,label = '% Preventiva',linewidth=2)\n",
    "plt.plot(y,corret,label = '% Corretiva',linewidth=2)\n",
    "plt.legend(fontsize=10)\n",
    "\n",
    "plt.title('Preventiva x Corretiva',fontsize=20)\n",
    "plt.xlabel('Mês',fontsize=15)\n",
    "plt.ylabel('Porcentagem',fontsize=15)\n"
   ]
  },
  {
   "cell_type": "markdown",
   "metadata": {},
   "source": [
    "---"
   ]
  },
  {
   "cell_type": "markdown",
   "metadata": {},
   "source": [
    "##  ----------- Melhorias  -----------"
   ]
  },
  {
   "cell_type": "markdown",
   "metadata": {},
   "source": [
    "### Instalações com o maior numero de melhorias realizadas"
   ]
  },
  {
   "cell_type": "code",
   "execution_count": null,
   "metadata": {},
   "outputs": [],
   "source": [
    "# Filtrar pelo tipo de tarefa classificada como melhoria em instalações\n",
    "mel_i = ativ_i.loc[ativ_i['Tipo de tarefa'].str.contains(\"melhoria|Melhoria\",na = False)]"
   ]
  },
  {
   "cell_type": "code",
   "execution_count": null,
   "metadata": {},
   "outputs": [],
   "source": [
    "# Selecionar os 10 ativos com maior numero de atividades melhorias realizadas:\n",
    "instalações_melhorias_mais_realizadas = mel_i[['Ativo','contador']].groupby('Ativo').sum()\n",
    "instalações_melhorias_mais_realizadas = instalações_melhorias_mais_realizadas .sort_values(by=['contador'],ascending=False)\n",
    "instalações_melhorias_mais_realizadas.head(10)\n"
   ]
  },
  {
   "cell_type": "code",
   "execution_count": null,
   "metadata": {},
   "outputs": [],
   "source": [
    "# Selecionar os 10 ativos com menor numero de atividades melhorias realizadas:\n",
    "instalações_menos_melhorias = instalações_melhorias_mais_realizadas.tail(10)\n",
    "instalações_menos_melhorias"
   ]
  },
  {
   "cell_type": "markdown",
   "metadata": {},
   "source": [
    "### Equipamentos com maior numero de melhorias realizadas"
   ]
  },
  {
   "cell_type": "code",
   "execution_count": null,
   "metadata": {},
   "outputs": [],
   "source": [
    "# Selecionar os equipamentos com maior numero de atividades classificadas como melhoria:\n",
    "mel_e = ativ_e.loc[ativ_e['Tipo de tarefa'].str.contains(\"melhoria|Melhoria\",na = False)]\n",
    "\n",
    "equip_melhorias_mais_realizadas = mel_e[['Ativo','contador']].groupby('Ativo').sum()\n",
    "equip_melhorias_mais_realizadas = equip_melhorias_mais_realizadas.sort_values(by=['contador'],ascending=False)\n",
    "equip_melhorias_mais_realizadas.head(10)"
   ]
  },
  {
   "cell_type": "code",
   "execution_count": null,
   "metadata": {},
   "outputs": [],
   "source": [
    "# Mostrar informações da linha para o equipamento \"linha 716\"\n",
    "mel_e.loc[mel_e['Ativo'].str.contains(\"LINHA 716\", na = False)]"
   ]
  },
  {
   "cell_type": "code",
   "execution_count": null,
   "metadata": {},
   "outputs": [],
   "source": [
    "# Selecionar os 10 equipametnos com menor numero de melhorias realizadas:\n",
    "equip_menos_melhorias = equip_melhorias_mais_realizadas.tail(10)\n",
    "equip_menos_melhorias"
   ]
  },
  {
   "cell_type": "markdown",
   "metadata": {},
   "source": [
    "---"
   ]
  }
 ],
 "metadata": {
  "colab": {
   "name": "Projeto_Integrado.ipynb",
   "provenance": []
  },
  "kernelspec": {
   "display_name": "Python 3",
   "language": "python",
   "name": "python3"
  },
  "language_info": {
   "codemirror_mode": {
    "name": "ipython",
    "version": 3
   },
   "file_extension": ".py",
   "mimetype": "text/x-python",
   "name": "python",
   "nbconvert_exporter": "python",
   "pygments_lexer": "ipython3",
   "version": "3.7.6"
  }
 },
 "nbformat": 4,
 "nbformat_minor": 1
}
